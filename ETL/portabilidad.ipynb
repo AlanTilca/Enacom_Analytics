{
 "cells": [
  {
   "attachments": {},
   "cell_type": "markdown",
   "metadata": {},
   "source": [
    "## PASO 0: Importar bibliotecas y leer datos"
   ]
  },
  {
   "cell_type": "code",
   "execution_count": 1,
   "metadata": {},
   "outputs": [],
   "source": [
    "import pandas as pd"
   ]
  },
  {
   "cell_type": "code",
   "execution_count": 2,
   "metadata": {},
   "outputs": [
    {
     "data": {
      "text/html": [
       "<div>\n",
       "<style scoped>\n",
       "    .dataframe tbody tr th:only-of-type {\n",
       "        vertical-align: middle;\n",
       "    }\n",
       "\n",
       "    .dataframe tbody tr th {\n",
       "        vertical-align: top;\n",
       "    }\n",
       "\n",
       "    .dataframe thead th {\n",
       "        text-align: right;\n",
       "    }\n",
       "</style>\n",
       "<table border=\"1\" class=\"dataframe\">\n",
       "  <thead>\n",
       "    <tr style=\"text-align: right;\">\n",
       "      <th></th>\n",
       "      <th>Año</th>\n",
       "      <th>Mes</th>\n",
       "      <th>Personal</th>\n",
       "      <th>Claro</th>\n",
       "      <th>Nextel</th>\n",
       "      <th>Movistar</th>\n",
       "      <th>Otros</th>\n",
       "      <th>Periodo</th>\n",
       "    </tr>\n",
       "  </thead>\n",
       "  <tbody>\n",
       "    <tr>\n",
       "      <th>0</th>\n",
       "      <td>2012</td>\n",
       "      <td>3</td>\n",
       "      <td>-17</td>\n",
       "      <td>19</td>\n",
       "      <td>0</td>\n",
       "      <td>-2</td>\n",
       "      <td>NaN</td>\n",
       "      <td>Mar-12</td>\n",
       "    </tr>\n",
       "    <tr>\n",
       "      <th>1</th>\n",
       "      <td>2012</td>\n",
       "      <td>4</td>\n",
       "      <td>3,508</td>\n",
       "      <td>-1,134</td>\n",
       "      <td>-189</td>\n",
       "      <td>-2,185</td>\n",
       "      <td>NaN</td>\n",
       "      <td>Apr-12</td>\n",
       "    </tr>\n",
       "    <tr>\n",
       "      <th>2</th>\n",
       "      <td>2012</td>\n",
       "      <td>5</td>\n",
       "      <td>1,253</td>\n",
       "      <td>4,792</td>\n",
       "      <td>-853</td>\n",
       "      <td>-5,192</td>\n",
       "      <td>NaN</td>\n",
       "      <td>May-12</td>\n",
       "    </tr>\n",
       "    <tr>\n",
       "      <th>3</th>\n",
       "      <td>2012</td>\n",
       "      <td>6</td>\n",
       "      <td>3,263</td>\n",
       "      <td>-1,248</td>\n",
       "      <td>-848</td>\n",
       "      <td>-1,167</td>\n",
       "      <td>NaN</td>\n",
       "      <td>Jun-12</td>\n",
       "    </tr>\n",
       "    <tr>\n",
       "      <th>4</th>\n",
       "      <td>2012</td>\n",
       "      <td>7</td>\n",
       "      <td>5,554</td>\n",
       "      <td>-3,847</td>\n",
       "      <td>-1,105</td>\n",
       "      <td>-602</td>\n",
       "      <td>NaN</td>\n",
       "      <td>Jul-12</td>\n",
       "    </tr>\n",
       "    <tr>\n",
       "      <th>...</th>\n",
       "      <td>...</td>\n",
       "      <td>...</td>\n",
       "      <td>...</td>\n",
       "      <td>...</td>\n",
       "      <td>...</td>\n",
       "      <td>...</td>\n",
       "      <td>...</td>\n",
       "      <td>...</td>\n",
       "    </tr>\n",
       "    <tr>\n",
       "      <th>123</th>\n",
       "      <td>2022</td>\n",
       "      <td>6</td>\n",
       "      <td>-3,012</td>\n",
       "      <td>20,311</td>\n",
       "      <td>NaN</td>\n",
       "      <td>-17,348</td>\n",
       "      <td>49.0</td>\n",
       "      <td>Jun-22</td>\n",
       "    </tr>\n",
       "    <tr>\n",
       "      <th>124</th>\n",
       "      <td>2022</td>\n",
       "      <td>7</td>\n",
       "      <td>2,263</td>\n",
       "      <td>7,363</td>\n",
       "      <td>NaN</td>\n",
       "      <td>-9,653</td>\n",
       "      <td>27.0</td>\n",
       "      <td>Jul-22</td>\n",
       "    </tr>\n",
       "    <tr>\n",
       "      <th>125</th>\n",
       "      <td>2022</td>\n",
       "      <td>8</td>\n",
       "      <td>996</td>\n",
       "      <td>19,548</td>\n",
       "      <td>NaN</td>\n",
       "      <td>-20,585</td>\n",
       "      <td>41.0</td>\n",
       "      <td>Aug-22</td>\n",
       "    </tr>\n",
       "    <tr>\n",
       "      <th>126</th>\n",
       "      <td>2022</td>\n",
       "      <td>9</td>\n",
       "      <td>-2,209</td>\n",
       "      <td>18,050</td>\n",
       "      <td>NaN</td>\n",
       "      <td>-15,982</td>\n",
       "      <td>141.0</td>\n",
       "      <td>Sep-22</td>\n",
       "    </tr>\n",
       "    <tr>\n",
       "      <th>127</th>\n",
       "      <td>2022</td>\n",
       "      <td>10</td>\n",
       "      <td>-1,605</td>\n",
       "      <td>987</td>\n",
       "      <td>NaN</td>\n",
       "      <td>469</td>\n",
       "      <td>149.0</td>\n",
       "      <td>Oct-22</td>\n",
       "    </tr>\n",
       "  </tbody>\n",
       "</table>\n",
       "<p>128 rows × 8 columns</p>\n",
       "</div>"
      ],
      "text/plain": [
       "      Año  Mes Personal   Claro  Nextel Movistar  Otros Periodo\n",
       "0    2012    3      -17      19       0       -2    NaN  Mar-12\n",
       "1    2012    4    3,508  -1,134    -189   -2,185    NaN  Apr-12\n",
       "2    2012    5    1,253   4,792    -853   -5,192    NaN  May-12\n",
       "3    2012    6    3,263  -1,248    -848   -1,167    NaN  Jun-12\n",
       "4    2012    7    5,554  -3,847  -1,105     -602    NaN  Jul-12\n",
       "..    ...  ...      ...     ...     ...      ...    ...     ...\n",
       "123  2022    6   -3,012  20,311     NaN  -17,348   49.0  Jun-22\n",
       "124  2022    7    2,263   7,363     NaN   -9,653   27.0  Jul-22\n",
       "125  2022    8      996  19,548     NaN  -20,585   41.0  Aug-22\n",
       "126  2022    9   -2,209  18,050     NaN  -15,982  141.0  Sep-22\n",
       "127  2022   10   -1,605     987     NaN      469  149.0  Oct-22\n",
       "\n",
       "[128 rows x 8 columns]"
      ]
     },
     "execution_count": 2,
     "metadata": {},
     "output_type": "execute_result"
    }
   ],
   "source": [
    "df = pd.read_csv(r'dataset_raw\\Portabilidad.csv')\n",
    "df"
   ]
  },
  {
   "cell_type": "code",
   "execution_count": 3,
   "metadata": {},
   "outputs": [
    {
     "data": {
      "text/plain": [
       "'Pandas por defecto no te muestra todas las columnas del dataframe.\\nEs util para la exploracion de datos tener un limite bastante alto.\\nCorrer despues de haber creado el dataframe, sino da error.\\n'"
      ]
     },
     "execution_count": 3,
     "metadata": {},
     "output_type": "execute_result"
    }
   ],
   "source": [
    "pd.set_option('display.max.columns', 200)\n",
    "pd.set_option('display.max.rows', 200)\n",
    "\n",
    "'''Pandas por defecto no te muestra todas las columnas del dataframe.\n",
    "Es util para la exploracion de datos tener un limite bastante alto.\n",
    "Correr despues de haber creado el dataframe, sino da error.\n",
    "'''"
   ]
  },
  {
   "attachments": {},
   "cell_type": "markdown",
   "metadata": {},
   "source": [
    "---"
   ]
  },
  {
   "attachments": {},
   "cell_type": "markdown",
   "metadata": {},
   "source": [
    "## PASO 1: Comprensión de datos\n",
    "\n",
    "- Dataframe `info`\n",
    "- Dataframe `shape`\n",
    "- `head` y `tail`\n",
    "- Duplicados"
   ]
  },
  {
   "cell_type": "code",
   "execution_count": 4,
   "metadata": {},
   "outputs": [
    {
     "name": "stdout",
     "output_type": "stream",
     "text": [
      "<class 'pandas.core.frame.DataFrame'>\n",
      "RangeIndex: 128 entries, 0 to 127\n",
      "Data columns (total 8 columns):\n",
      " #   Column    Non-Null Count  Dtype  \n",
      "---  ------    --------------  -----  \n",
      " 0   Año       128 non-null    int64  \n",
      " 1   Mes       128 non-null    int64  \n",
      " 2   Personal  128 non-null    object \n",
      " 3   Claro     128 non-null    object \n",
      " 4   Nextel    70 non-null     object \n",
      " 5   Movistar  128 non-null    object \n",
      " 6   Otros     8 non-null      float64\n",
      " 7   Periodo   128 non-null    object \n",
      "dtypes: float64(1), int64(2), object(5)\n",
      "memory usage: 8.1+ KB\n"
     ]
    }
   ],
   "source": [
    "df.info()"
   ]
  },
  {
   "cell_type": "code",
   "execution_count": 5,
   "metadata": {},
   "outputs": [
    {
     "data": {
      "text/plain": [
       "(128, 8)"
      ]
     },
     "execution_count": 5,
     "metadata": {},
     "output_type": "execute_result"
    }
   ],
   "source": [
    "df.shape"
   ]
  },
  {
   "cell_type": "code",
   "execution_count": 6,
   "metadata": {},
   "outputs": [
    {
     "data": {
      "text/html": [
       "<div>\n",
       "<style scoped>\n",
       "    .dataframe tbody tr th:only-of-type {\n",
       "        vertical-align: middle;\n",
       "    }\n",
       "\n",
       "    .dataframe tbody tr th {\n",
       "        vertical-align: top;\n",
       "    }\n",
       "\n",
       "    .dataframe thead th {\n",
       "        text-align: right;\n",
       "    }\n",
       "</style>\n",
       "<table border=\"1\" class=\"dataframe\">\n",
       "  <thead>\n",
       "    <tr style=\"text-align: right;\">\n",
       "      <th></th>\n",
       "      <th>Año</th>\n",
       "      <th>Mes</th>\n",
       "      <th>Personal</th>\n",
       "      <th>Claro</th>\n",
       "      <th>Nextel</th>\n",
       "      <th>Movistar</th>\n",
       "      <th>Otros</th>\n",
       "      <th>Periodo</th>\n",
       "    </tr>\n",
       "  </thead>\n",
       "  <tbody>\n",
       "  </tbody>\n",
       "</table>\n",
       "</div>"
      ],
      "text/plain": [
       "Empty DataFrame\n",
       "Columns: [Año, Mes, Personal, Claro, Nextel, Movistar, Otros, Periodo]\n",
       "Index: []"
      ]
     },
     "execution_count": 6,
     "metadata": {},
     "output_type": "execute_result"
    }
   ],
   "source": [
    "# Verificar si hay filas completas duplicadas\n",
    "duplicates = df[df.duplicated(keep=False, subset=df.columns)]\n",
    "duplicates"
   ]
  },
  {
   "cell_type": "code",
   "execution_count": 7,
   "metadata": {},
   "outputs": [],
   "source": [
    "df.drop_duplicates(inplace=True)"
   ]
  },
  {
   "cell_type": "code",
   "execution_count": 8,
   "metadata": {},
   "outputs": [
    {
     "data": {
      "text/plain": [
       "Index(['Año', 'Mes', 'Personal', 'Claro', 'Nextel', 'Movistar', 'Otros',\n",
       "       'Periodo'],\n",
       "      dtype='object')"
      ]
     },
     "execution_count": 8,
     "metadata": {},
     "output_type": "execute_result"
    }
   ],
   "source": [
    "df.columns"
   ]
  },
  {
   "cell_type": "code",
   "execution_count": 9,
   "metadata": {},
   "outputs": [
    {
     "data": {
      "text/html": [
       "<div>\n",
       "<style scoped>\n",
       "    .dataframe tbody tr th:only-of-type {\n",
       "        vertical-align: middle;\n",
       "    }\n",
       "\n",
       "    .dataframe tbody tr th {\n",
       "        vertical-align: top;\n",
       "    }\n",
       "\n",
       "    .dataframe thead th {\n",
       "        text-align: right;\n",
       "    }\n",
       "</style>\n",
       "<table border=\"1\" class=\"dataframe\">\n",
       "  <thead>\n",
       "    <tr style=\"text-align: right;\">\n",
       "      <th></th>\n",
       "      <th>Año</th>\n",
       "      <th>Mes</th>\n",
       "      <th>Personal</th>\n",
       "      <th>Claro</th>\n",
       "      <th>Nextel</th>\n",
       "      <th>Movistar</th>\n",
       "      <th>Otros</th>\n",
       "      <th>Periodo</th>\n",
       "    </tr>\n",
       "  </thead>\n",
       "  <tbody>\n",
       "    <tr>\n",
       "      <th>0</th>\n",
       "      <td>2012</td>\n",
       "      <td>3</td>\n",
       "      <td>-17</td>\n",
       "      <td>19</td>\n",
       "      <td>0</td>\n",
       "      <td>-2</td>\n",
       "      <td>NaN</td>\n",
       "      <td>Mar-12</td>\n",
       "    </tr>\n",
       "    <tr>\n",
       "      <th>1</th>\n",
       "      <td>2012</td>\n",
       "      <td>4</td>\n",
       "      <td>3,508</td>\n",
       "      <td>-1,134</td>\n",
       "      <td>-189</td>\n",
       "      <td>-2,185</td>\n",
       "      <td>NaN</td>\n",
       "      <td>Apr-12</td>\n",
       "    </tr>\n",
       "    <tr>\n",
       "      <th>2</th>\n",
       "      <td>2012</td>\n",
       "      <td>5</td>\n",
       "      <td>1,253</td>\n",
       "      <td>4,792</td>\n",
       "      <td>-853</td>\n",
       "      <td>-5,192</td>\n",
       "      <td>NaN</td>\n",
       "      <td>May-12</td>\n",
       "    </tr>\n",
       "    <tr>\n",
       "      <th>3</th>\n",
       "      <td>2012</td>\n",
       "      <td>6</td>\n",
       "      <td>3,263</td>\n",
       "      <td>-1,248</td>\n",
       "      <td>-848</td>\n",
       "      <td>-1,167</td>\n",
       "      <td>NaN</td>\n",
       "      <td>Jun-12</td>\n",
       "    </tr>\n",
       "    <tr>\n",
       "      <th>4</th>\n",
       "      <td>2012</td>\n",
       "      <td>7</td>\n",
       "      <td>5,554</td>\n",
       "      <td>-3,847</td>\n",
       "      <td>-1,105</td>\n",
       "      <td>-602</td>\n",
       "      <td>NaN</td>\n",
       "      <td>Jul-12</td>\n",
       "    </tr>\n",
       "  </tbody>\n",
       "</table>\n",
       "</div>"
      ],
      "text/plain": [
       "    Año  Mes Personal   Claro  Nextel Movistar  Otros Periodo\n",
       "0  2012    3      -17      19       0       -2    NaN  Mar-12\n",
       "1  2012    4    3,508  -1,134    -189   -2,185    NaN  Apr-12\n",
       "2  2012    5    1,253   4,792    -853   -5,192    NaN  May-12\n",
       "3  2012    6    3,263  -1,248    -848   -1,167    NaN  Jun-12\n",
       "4  2012    7    5,554  -3,847  -1,105     -602    NaN  Jul-12"
      ]
     },
     "execution_count": 9,
     "metadata": {},
     "output_type": "execute_result"
    }
   ],
   "source": [
    "df.head(5)"
   ]
  },
  {
   "attachments": {},
   "cell_type": "markdown",
   "metadata": {},
   "source": [
    "---"
   ]
  },
  {
   "attachments": {},
   "cell_type": "markdown",
   "metadata": {},
   "source": [
    "## PASO 2: Preparación de datos\n",
    "\n",
    "- Quitar columnas y filas irrelevantes\n",
    "- Renombrar columnas\n",
    "- Identificar columnas y filas duplicadas\n"
   ]
  },
  {
   "cell_type": "code",
   "execution_count": 10,
   "metadata": {},
   "outputs": [
    {
     "data": {
      "text/html": [
       "<div>\n",
       "<style scoped>\n",
       "    .dataframe tbody tr th:only-of-type {\n",
       "        vertical-align: middle;\n",
       "    }\n",
       "\n",
       "    .dataframe tbody tr th {\n",
       "        vertical-align: top;\n",
       "    }\n",
       "\n",
       "    .dataframe thead th {\n",
       "        text-align: right;\n",
       "    }\n",
       "</style>\n",
       "<table border=\"1\" class=\"dataframe\">\n",
       "  <thead>\n",
       "    <tr style=\"text-align: right;\">\n",
       "      <th></th>\n",
       "      <th>Año</th>\n",
       "      <th>Mes</th>\n",
       "      <th>Personal</th>\n",
       "      <th>Claro</th>\n",
       "      <th>Nextel</th>\n",
       "      <th>Movistar</th>\n",
       "      <th>Otros</th>\n",
       "    </tr>\n",
       "  </thead>\n",
       "  <tbody>\n",
       "    <tr>\n",
       "      <th>0</th>\n",
       "      <td>2012</td>\n",
       "      <td>3</td>\n",
       "      <td>-17</td>\n",
       "      <td>19</td>\n",
       "      <td>0</td>\n",
       "      <td>-2</td>\n",
       "      <td>NaN</td>\n",
       "    </tr>\n",
       "    <tr>\n",
       "      <th>1</th>\n",
       "      <td>2012</td>\n",
       "      <td>4</td>\n",
       "      <td>3,508</td>\n",
       "      <td>-1,134</td>\n",
       "      <td>-189</td>\n",
       "      <td>-2,185</td>\n",
       "      <td>NaN</td>\n",
       "    </tr>\n",
       "    <tr>\n",
       "      <th>2</th>\n",
       "      <td>2012</td>\n",
       "      <td>5</td>\n",
       "      <td>1,253</td>\n",
       "      <td>4,792</td>\n",
       "      <td>-853</td>\n",
       "      <td>-5,192</td>\n",
       "      <td>NaN</td>\n",
       "    </tr>\n",
       "    <tr>\n",
       "      <th>3</th>\n",
       "      <td>2012</td>\n",
       "      <td>6</td>\n",
       "      <td>3,263</td>\n",
       "      <td>-1,248</td>\n",
       "      <td>-848</td>\n",
       "      <td>-1,167</td>\n",
       "      <td>NaN</td>\n",
       "    </tr>\n",
       "    <tr>\n",
       "      <th>4</th>\n",
       "      <td>2012</td>\n",
       "      <td>7</td>\n",
       "      <td>5,554</td>\n",
       "      <td>-3,847</td>\n",
       "      <td>-1,105</td>\n",
       "      <td>-602</td>\n",
       "      <td>NaN</td>\n",
       "    </tr>\n",
       "  </tbody>\n",
       "</table>\n",
       "</div>"
      ],
      "text/plain": [
       "    Año  Mes Personal   Claro  Nextel Movistar  Otros\n",
       "0  2012    3      -17      19       0       -2    NaN\n",
       "1  2012    4    3,508  -1,134    -189   -2,185    NaN\n",
       "2  2012    5    1,253   4,792    -853   -5,192    NaN\n",
       "3  2012    6    3,263  -1,248    -848   -1,167    NaN\n",
       "4  2012    7    5,554  -3,847  -1,105     -602    NaN"
      ]
     },
     "execution_count": 10,
     "metadata": {},
     "output_type": "execute_result"
    }
   ],
   "source": [
    "df = df[['Año', 'Mes', 'Personal', 'Claro', 'Nextel', 'Movistar', 'Otros']]\n",
    "\n",
    "df.head(5)"
   ]
  },
  {
   "cell_type": "code",
   "execution_count": 11,
   "metadata": {},
   "outputs": [
    {
     "data": {
      "text/plain": [
       "Año           0\n",
       "Mes           0\n",
       "Personal      0\n",
       "Claro         0\n",
       "Nextel       58\n",
       "Movistar      0\n",
       "Otros       120\n",
       "dtype: int64"
      ]
     },
     "execution_count": 11,
     "metadata": {},
     "output_type": "execute_result"
    }
   ],
   "source": [
    "df.isna().sum()   # Checkeamos Nulos por columna"
   ]
  },
  {
   "cell_type": "code",
   "execution_count": 12,
   "metadata": {},
   "outputs": [
    {
     "name": "stderr",
     "output_type": "stream",
     "text": [
      "C:\\Users\\Alan\\AppData\\Local\\Temp\\ipykernel_6644\\1840858203.py:1: SettingWithCopyWarning: \n",
      "A value is trying to be set on a copy of a slice from a DataFrame\n",
      "\n",
      "See the caveats in the documentation: https://pandas.pydata.org/pandas-docs/stable/user_guide/indexing.html#returning-a-view-versus-a-copy\n",
      "  df.fillna(0,inplace=True)\n"
     ]
    }
   ],
   "source": [
    "df.fillna(0,inplace=True)"
   ]
  },
  {
   "cell_type": "code",
   "execution_count": 13,
   "metadata": {},
   "outputs": [
    {
     "name": "stderr",
     "output_type": "stream",
     "text": [
      "C:\\Users\\Alan\\AppData\\Local\\Temp\\ipykernel_6644\\3566529477.py:1: SettingWithCopyWarning: \n",
      "A value is trying to be set on a copy of a slice from a DataFrame.\n",
      "Try using .loc[row_indexer,col_indexer] = value instead\n",
      "\n",
      "See the caveats in the documentation: https://pandas.pydata.org/pandas-docs/stable/user_guide/indexing.html#returning-a-view-versus-a-copy\n",
      "  df[['Personal', 'Claro', 'Nextel', 'Movistar']] = df[['Personal', 'Claro', 'Nextel', 'Movistar']].replace(\",\", \"\", regex=True).astype(int)\n"
     ]
    }
   ],
   "source": [
    "df[['Personal', 'Claro', 'Nextel', 'Movistar']] = df[['Personal', 'Claro', 'Nextel', 'Movistar']].replace(\",\", \"\", regex=True).astype(int)\n"
   ]
  },
  {
   "cell_type": "code",
   "execution_count": 14,
   "metadata": {},
   "outputs": [
    {
     "data": {
      "text/plain": [
       "Año           int64\n",
       "Mes           int64\n",
       "Personal      int32\n",
       "Claro         int32\n",
       "Nextel        int32\n",
       "Movistar      int32\n",
       "Otros       float64\n",
       "dtype: object"
      ]
     },
     "execution_count": 14,
     "metadata": {},
     "output_type": "execute_result"
    }
   ],
   "source": [
    "df.dtypes"
   ]
  },
  {
   "cell_type": "code",
   "execution_count": 15,
   "metadata": {},
   "outputs": [
    {
     "data": {
      "text/html": [
       "<div>\n",
       "<style scoped>\n",
       "    .dataframe tbody tr th:only-of-type {\n",
       "        vertical-align: middle;\n",
       "    }\n",
       "\n",
       "    .dataframe tbody tr th {\n",
       "        vertical-align: top;\n",
       "    }\n",
       "\n",
       "    .dataframe thead th {\n",
       "        text-align: right;\n",
       "    }\n",
       "</style>\n",
       "<table border=\"1\" class=\"dataframe\">\n",
       "  <thead>\n",
       "    <tr style=\"text-align: right;\">\n",
       "      <th></th>\n",
       "      <th>Año</th>\n",
       "      <th>Mes</th>\n",
       "      <th>Personal</th>\n",
       "      <th>Claro</th>\n",
       "      <th>Nextel</th>\n",
       "      <th>Movistar</th>\n",
       "      <th>Otros</th>\n",
       "    </tr>\n",
       "  </thead>\n",
       "  <tbody>\n",
       "    <tr>\n",
       "      <th>0</th>\n",
       "      <td>2012</td>\n",
       "      <td>3</td>\n",
       "      <td>-17</td>\n",
       "      <td>19</td>\n",
       "      <td>0</td>\n",
       "      <td>-2</td>\n",
       "      <td>0.0</td>\n",
       "    </tr>\n",
       "    <tr>\n",
       "      <th>1</th>\n",
       "      <td>2012</td>\n",
       "      <td>4</td>\n",
       "      <td>3508</td>\n",
       "      <td>-1134</td>\n",
       "      <td>-189</td>\n",
       "      <td>-2185</td>\n",
       "      <td>0.0</td>\n",
       "    </tr>\n",
       "    <tr>\n",
       "      <th>2</th>\n",
       "      <td>2012</td>\n",
       "      <td>5</td>\n",
       "      <td>1253</td>\n",
       "      <td>4792</td>\n",
       "      <td>-853</td>\n",
       "      <td>-5192</td>\n",
       "      <td>0.0</td>\n",
       "    </tr>\n",
       "    <tr>\n",
       "      <th>3</th>\n",
       "      <td>2012</td>\n",
       "      <td>6</td>\n",
       "      <td>3263</td>\n",
       "      <td>-1248</td>\n",
       "      <td>-848</td>\n",
       "      <td>-1167</td>\n",
       "      <td>0.0</td>\n",
       "    </tr>\n",
       "    <tr>\n",
       "      <th>4</th>\n",
       "      <td>2012</td>\n",
       "      <td>7</td>\n",
       "      <td>5554</td>\n",
       "      <td>-3847</td>\n",
       "      <td>-1105</td>\n",
       "      <td>-602</td>\n",
       "      <td>0.0</td>\n",
       "    </tr>\n",
       "  </tbody>\n",
       "</table>\n",
       "</div>"
      ],
      "text/plain": [
       "    Año  Mes  Personal  Claro  Nextel  Movistar  Otros\n",
       "0  2012    3       -17     19       0        -2    0.0\n",
       "1  2012    4      3508  -1134    -189     -2185    0.0\n",
       "2  2012    5      1253   4792    -853     -5192    0.0\n",
       "3  2012    6      3263  -1248    -848     -1167    0.0\n",
       "4  2012    7      5554  -3847   -1105      -602    0.0"
      ]
     },
     "execution_count": 15,
     "metadata": {},
     "output_type": "execute_result"
    }
   ],
   "source": [
    "df.head()"
   ]
  },
  {
   "cell_type": "code",
   "execution_count": 16,
   "metadata": {},
   "outputs": [],
   "source": [
    "# Guardar DataFrame como un archivo CSV\n",
    "df.to_csv(r'..\\EDA\\dataset_processed\\Portabilidad_prces.csv', index=False)"
   ]
  }
 ],
 "metadata": {
  "kernelspec": {
   "display_name": "Python 3",
   "language": "python",
   "name": "python3"
  },
  "language_info": {
   "codemirror_mode": {
    "name": "ipython",
    "version": 3
   },
   "file_extension": ".py",
   "mimetype": "text/x-python",
   "name": "python",
   "nbconvert_exporter": "python",
   "pygments_lexer": "ipython3",
   "version": "3.11.3"
  },
  "orig_nbformat": 4
 },
 "nbformat": 4,
 "nbformat_minor": 2
}
