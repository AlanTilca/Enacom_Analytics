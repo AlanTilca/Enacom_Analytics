{
 "cells": [
  {
   "cell_type": "code",
   "execution_count": 1,
   "metadata": {},
   "outputs": [],
   "source": [
    "import pandas as pd\n",
    "import numpy as np\n",
    "import matplotlib.pyplot as plt\n",
    "import seaborn as sns"
   ]
  },
  {
   "cell_type": "code",
   "execution_count": 2,
   "metadata": {},
   "outputs": [],
   "source": [
    "df_internet_accesos = pd.read_csv(r'dataset_processed\\Internet_Penetracion_prces.csv')\n",
    "df_movil_accesos = pd.read_csv(r'dataset_processed\\movil_accesos_prces.csv')\n"
   ]
  },
  {
   "cell_type": "code",
   "execution_count": 3,
   "metadata": {},
   "outputs": [
    {
     "data": {
      "text/html": [
       "<div>\n",
       "<style scoped>\n",
       "    .dataframe tbody tr th:only-of-type {\n",
       "        vertical-align: middle;\n",
       "    }\n",
       "\n",
       "    .dataframe tbody tr th {\n",
       "        vertical-align: top;\n",
       "    }\n",
       "\n",
       "    .dataframe thead th {\n",
       "        text-align: right;\n",
       "    }\n",
       "</style>\n",
       "<table border=\"1\" class=\"dataframe\">\n",
       "  <thead>\n",
       "    <tr style=\"text-align: right;\">\n",
       "      <th></th>\n",
       "      <th>Año</th>\n",
       "      <th>Trimestre</th>\n",
       "      <th>Provincia</th>\n",
       "      <th>Accesos por cada 100 hogares</th>\n",
       "    </tr>\n",
       "  </thead>\n",
       "  <tbody>\n",
       "    <tr>\n",
       "      <th>0</th>\n",
       "      <td>2022</td>\n",
       "      <td>3</td>\n",
       "      <td>buenos aires</td>\n",
       "      <td>78.11</td>\n",
       "    </tr>\n",
       "    <tr>\n",
       "      <th>1</th>\n",
       "      <td>2022</td>\n",
       "      <td>3</td>\n",
       "      <td>capital federal</td>\n",
       "      <td>122.28</td>\n",
       "    </tr>\n",
       "    <tr>\n",
       "      <th>2</th>\n",
       "      <td>2022</td>\n",
       "      <td>3</td>\n",
       "      <td>catamarca</td>\n",
       "      <td>65.33</td>\n",
       "    </tr>\n",
       "  </tbody>\n",
       "</table>\n",
       "</div>"
      ],
      "text/plain": [
       "    Año  Trimestre        Provincia  Accesos por cada 100 hogares\n",
       "0  2022          3     buenos aires                         78.11\n",
       "1  2022          3  capital federal                        122.28\n",
       "2  2022          3        catamarca                         65.33"
      ]
     },
     "execution_count": 3,
     "metadata": {},
     "output_type": "execute_result"
    }
   ],
   "source": [
    "df_internet_accesos.head(3)"
   ]
  },
  {
   "cell_type": "code",
   "execution_count": 4,
   "metadata": {},
   "outputs": [
    {
     "data": {
      "text/html": [
       "<div>\n",
       "<style scoped>\n",
       "    .dataframe tbody tr th:only-of-type {\n",
       "        vertical-align: middle;\n",
       "    }\n",
       "\n",
       "    .dataframe tbody tr th {\n",
       "        vertical-align: top;\n",
       "    }\n",
       "\n",
       "    .dataframe thead th {\n",
       "        text-align: right;\n",
       "    }\n",
       "</style>\n",
       "<table border=\"1\" class=\"dataframe\">\n",
       "  <thead>\n",
       "    <tr style=\"text-align: right;\">\n",
       "      <th></th>\n",
       "      <th>Año</th>\n",
       "      <th>Trimestre</th>\n",
       "      <th>Accesos por cada 100 hab</th>\n",
       "    </tr>\n",
       "  </thead>\n",
       "  <tbody>\n",
       "    <tr>\n",
       "      <th>36</th>\n",
       "      <td>2022</td>\n",
       "      <td>1</td>\n",
       "      <td>129</td>\n",
       "    </tr>\n",
       "    <tr>\n",
       "      <th>37</th>\n",
       "      <td>2022</td>\n",
       "      <td>2</td>\n",
       "      <td>129</td>\n",
       "    </tr>\n",
       "    <tr>\n",
       "      <th>38</th>\n",
       "      <td>2022</td>\n",
       "      <td>3</td>\n",
       "      <td>129</td>\n",
       "    </tr>\n",
       "  </tbody>\n",
       "</table>\n",
       "</div>"
      ],
      "text/plain": [
       "     Año  Trimestre  Accesos por cada 100 hab\n",
       "36  2022          1                       129\n",
       "37  2022          2                       129\n",
       "38  2022          3                       129"
      ]
     },
     "execution_count": 4,
     "metadata": {},
     "output_type": "execute_result"
    }
   ],
   "source": [
    "df_movil_accesos.tail(3)"
   ]
  },
  {
   "cell_type": "code",
   "execution_count": 5,
   "metadata": {},
   "outputs": [],
   "source": [
    "df_internet_capital = df_internet_accesos[df_internet_accesos['Provincia'] == 'capital federal']\n",
    "df_internet_capital = df_internet_capital.sort_values(['Año', 'Trimestre'], ascending=True)\n"
   ]
  },
  {
   "cell_type": "code",
   "execution_count": 6,
   "metadata": {},
   "outputs": [],
   "source": [
    "df_movil_comparacion = df_movil_accesos[df_movil_accesos['Año']>2013]"
   ]
  },
  {
   "cell_type": "code",
   "execution_count": 7,
   "metadata": {},
   "outputs": [],
   "source": [
    "df_combined_accesos = pd.merge(df_internet_capital, df_movil_comparacion, on='Año')\n"
   ]
  },
  {
   "cell_type": "code",
   "execution_count": 8,
   "metadata": {},
   "outputs": [
    {
     "data": {
      "text/html": [
       "<div>\n",
       "<style scoped>\n",
       "    .dataframe tbody tr th:only-of-type {\n",
       "        vertical-align: middle;\n",
       "    }\n",
       "\n",
       "    .dataframe tbody tr th {\n",
       "        vertical-align: top;\n",
       "    }\n",
       "\n",
       "    .dataframe thead th {\n",
       "        text-align: right;\n",
       "    }\n",
       "</style>\n",
       "<table border=\"1\" class=\"dataframe\">\n",
       "  <thead>\n",
       "    <tr style=\"text-align: right;\">\n",
       "      <th></th>\n",
       "      <th>Año</th>\n",
       "      <th>Trimestre_x</th>\n",
       "      <th>Provincia</th>\n",
       "      <th>Accesos por cada 100 hogares</th>\n",
       "      <th>Trimestre_y</th>\n",
       "      <th>Accesos por cada 100 hab</th>\n",
       "    </tr>\n",
       "  </thead>\n",
       "  <tbody>\n",
       "    <tr>\n",
       "      <th>0</th>\n",
       "      <td>2014</td>\n",
       "      <td>1</td>\n",
       "      <td>capital federal</td>\n",
       "      <td>112.25</td>\n",
       "      <td>1</td>\n",
       "      <td>148</td>\n",
       "    </tr>\n",
       "    <tr>\n",
       "      <th>1</th>\n",
       "      <td>2014</td>\n",
       "      <td>1</td>\n",
       "      <td>capital federal</td>\n",
       "      <td>112.25</td>\n",
       "      <td>2</td>\n",
       "      <td>143</td>\n",
       "    </tr>\n",
       "    <tr>\n",
       "      <th>2</th>\n",
       "      <td>2014</td>\n",
       "      <td>1</td>\n",
       "      <td>capital federal</td>\n",
       "      <td>112.25</td>\n",
       "      <td>3</td>\n",
       "      <td>143</td>\n",
       "    </tr>\n",
       "    <tr>\n",
       "      <th>3</th>\n",
       "      <td>2014</td>\n",
       "      <td>1</td>\n",
       "      <td>capital federal</td>\n",
       "      <td>112.25</td>\n",
       "      <td>4</td>\n",
       "      <td>143</td>\n",
       "    </tr>\n",
       "    <tr>\n",
       "      <th>4</th>\n",
       "      <td>2014</td>\n",
       "      <td>2</td>\n",
       "      <td>capital federal</td>\n",
       "      <td>113.14</td>\n",
       "      <td>1</td>\n",
       "      <td>148</td>\n",
       "    </tr>\n",
       "    <tr>\n",
       "      <th>...</th>\n",
       "      <td>...</td>\n",
       "      <td>...</td>\n",
       "      <td>...</td>\n",
       "      <td>...</td>\n",
       "      <td>...</td>\n",
       "      <td>...</td>\n",
       "    </tr>\n",
       "    <tr>\n",
       "      <th>132</th>\n",
       "      <td>2022</td>\n",
       "      <td>2</td>\n",
       "      <td>capital federal</td>\n",
       "      <td>121.31</td>\n",
       "      <td>2</td>\n",
       "      <td>129</td>\n",
       "    </tr>\n",
       "    <tr>\n",
       "      <th>133</th>\n",
       "      <td>2022</td>\n",
       "      <td>2</td>\n",
       "      <td>capital federal</td>\n",
       "      <td>121.31</td>\n",
       "      <td>3</td>\n",
       "      <td>129</td>\n",
       "    </tr>\n",
       "    <tr>\n",
       "      <th>134</th>\n",
       "      <td>2022</td>\n",
       "      <td>3</td>\n",
       "      <td>capital federal</td>\n",
       "      <td>122.28</td>\n",
       "      <td>1</td>\n",
       "      <td>129</td>\n",
       "    </tr>\n",
       "    <tr>\n",
       "      <th>135</th>\n",
       "      <td>2022</td>\n",
       "      <td>3</td>\n",
       "      <td>capital federal</td>\n",
       "      <td>122.28</td>\n",
       "      <td>2</td>\n",
       "      <td>129</td>\n",
       "    </tr>\n",
       "    <tr>\n",
       "      <th>136</th>\n",
       "      <td>2022</td>\n",
       "      <td>3</td>\n",
       "      <td>capital federal</td>\n",
       "      <td>122.28</td>\n",
       "      <td>3</td>\n",
       "      <td>129</td>\n",
       "    </tr>\n",
       "  </tbody>\n",
       "</table>\n",
       "<p>137 rows × 6 columns</p>\n",
       "</div>"
      ],
      "text/plain": [
       "      Año  Trimestre_x        Provincia  Accesos por cada 100 hogares   \n",
       "0    2014            1  capital federal                        112.25  \\\n",
       "1    2014            1  capital federal                        112.25   \n",
       "2    2014            1  capital federal                        112.25   \n",
       "3    2014            1  capital federal                        112.25   \n",
       "4    2014            2  capital federal                        113.14   \n",
       "..    ...          ...              ...                           ...   \n",
       "132  2022            2  capital federal                        121.31   \n",
       "133  2022            2  capital federal                        121.31   \n",
       "134  2022            3  capital federal                        122.28   \n",
       "135  2022            3  capital federal                        122.28   \n",
       "136  2022            3  capital federal                        122.28   \n",
       "\n",
       "     Trimestre_y  Accesos por cada 100 hab  \n",
       "0              1                       148  \n",
       "1              2                       143  \n",
       "2              3                       143  \n",
       "3              4                       143  \n",
       "4              1                       148  \n",
       "..           ...                       ...  \n",
       "132            2                       129  \n",
       "133            3                       129  \n",
       "134            1                       129  \n",
       "135            2                       129  \n",
       "136            3                       129  \n",
       "\n",
       "[137 rows x 6 columns]"
      ]
     },
     "execution_count": 8,
     "metadata": {},
     "output_type": "execute_result"
    }
   ],
   "source": [
    "df_combined_accesos"
   ]
  },
  {
   "cell_type": "code",
   "execution_count": 9,
   "metadata": {},
   "outputs": [
    {
     "data": {
      "image/png": "[encoded data removed]",
      "text/plain": [
       "<Figure size 640x480 with 1 Axes>"
      ]
     },
     "metadata": {},
     "output_type": "display_data"
    }
   ],
   "source": [
    "# Crear el gráfico de líneas utilizando Seaborn\n",
    "sns.lineplot(data=df_combined_accesos, x='Año', y='Accesos por cada 100 hogares', label='Accesos a Internet (hogares)')\n",
    "sns.lineplot(data=df_combined_accesos, x='Año', y='Accesos por cada 100 hab', label='Accesos Móviles (habitantes)')\n",
    "\n",
    "# Personalizar el gráfico\n",
    "plt.title('Crecimiento de Accesos a Internet y Móviles en Capital Federal')\n",
    "plt.xlabel('Año')\n",
    "plt.ylabel('Cantidad de Accesos')\n",
    "\n",
    "# Obtener el valor mínimo y máximo de los datos\n",
    "min_value = df_combined_accesos[['Accesos por cada 100 hogares', 'Accesos por cada 100 hab']].min().min()\n",
    "max_value = df_combined_accesos[['Accesos por cada 100 hogares', 'Accesos por cada 100 hab']].max().max()\n",
    "\n",
    "# Ajustar el eje Y para que vaya desde el valor mínimo hasta el valor máximo\n",
    "plt.ylim(min_value, max_value)\n",
    "\n",
    "# Mostrar el gráfico\n",
    "plt.legend()\n",
    "plt.show()"
   ]
  },
  {
   "cell_type": "markdown",
   "metadata": {},
   "source": [
    "Eventualmente ambos tipos de accesos caen en un punto en comun 2020, cuando la pandemia empieza, y es ahi tambien cuando empieza una repuntada por parte de ambos servicios."
   ]
  },
  {
   "cell_type": "code",
   "execution_count": 10,
   "metadata": {},
   "outputs": [
    {
     "name": "stdout",
     "output_type": "stream",
     "text": [
      "Correlación entre Accesos a Internet y Accesos Móviles: 0.61\n"
     ]
    }
   ],
   "source": [
    "correlation = df_combined_accesos['Accesos por cada 100 hogares'].corr(df_combined_accesos['Accesos por cada 100 hab'])\n",
    "print(\"Correlación entre Accesos a Internet y Accesos Móviles:\", round(correlation,2))"
   ]
  },
  {
   "cell_type": "code",
   "execution_count": 11,
   "metadata": {},
   "outputs": [
    {
     "data": {
      "text/plain": [
       "113.26810218978102"
      ]
     },
     "execution_count": 11,
     "metadata": {},
     "output_type": "execute_result"
    }
   ],
   "source": [
    "df_combined_accesos['Accesos por cada 100 hogares'].mean()  #Internet Fijo"
   ]
  },
  {
   "cell_type": "code",
   "execution_count": 12,
   "metadata": {},
   "outputs": [
    {
     "data": {
      "text/plain": [
       "134.63503649635035"
      ]
     },
     "execution_count": 12,
     "metadata": {},
     "output_type": "execute_result"
    }
   ],
   "source": [
    "df_combined_accesos['Accesos por cada 100 hab'].mean() #Telefonia Movil"
   ]
  }
 ],
 "metadata": {
  "kernelspec": {
   "display_name": "Python 3",
   "language": "python",
   "name": "python3"
  },
  "language_info": {
   "codemirror_mode": {
    "name": "ipython",
    "version": 3
   },
   "file_extension": ".py",
   "mimetype": "text/x-python",
   "name": "python",
   "nbconvert_exporter": "python",
   "pygments_lexer": "ipython3",
   "version": "3.11.3"
  },
  "orig_nbformat": 4
 },
 "nbformat": 4,
 "nbformat_minor": 2
}
