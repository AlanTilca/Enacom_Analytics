{
 "cells": [
  {
   "cell_type": "code",
   "execution_count": 3,
   "metadata": {},
   "outputs": [],
   "source": [
    "import pandas as pd\n",
    "import numpy as np\n",
    "import matplotlib.pyplot as plt\n",
    "import seaborn as sns"
   ]
  },
  {
   "cell_type": "code",
   "execution_count": 4,
   "metadata": {},
   "outputs": [],
   "source": [
    "df_ingresos = pd.read_csv(r'dataset_processed\\Internet_fijo_Ingresos_prces.csv')\n",
    "df_ingresos_movil = pd.read_csv(r'dataset_processed\\Telefonia_movil_Ingresos_prces.csv')\n"
   ]
  },
  {
   "cell_type": "code",
   "execution_count": 5,
   "metadata": {},
   "outputs": [
    {
     "data": {
      "text/plain": [
       "Index(['Año', 'Trimestre', 'Ingresos_miles_pesos'], dtype='object')"
      ]
     },
     "execution_count": 5,
     "metadata": {},
     "output_type": "execute_result"
    }
   ],
   "source": [
    "df_ingresos.columns"
   ]
  },
  {
   "cell_type": "code",
   "execution_count": 6,
   "metadata": {},
   "outputs": [
    {
     "data": {
      "text/plain": [
       "Index(['Año', 'Trimestre', 'Ingresos_miles_pesos'], dtype='object')"
      ]
     },
     "execution_count": 6,
     "metadata": {},
     "output_type": "execute_result"
    }
   ],
   "source": [
    "df_ingresos_movil.columns"
   ]
  },
  {
   "cell_type": "code",
   "execution_count": 7,
   "metadata": {},
   "outputs": [
    {
     "data": {
      "text/plain": [
       "(35, 3)"
      ]
     },
     "execution_count": 7,
     "metadata": {},
     "output_type": "execute_result"
    }
   ],
   "source": [
    "df_ingresos_movil.shape"
   ]
  },
  {
   "cell_type": "code",
   "execution_count": 8,
   "metadata": {},
   "outputs": [
    {
     "data": {
      "text/plain": [
       "(35, 3)"
      ]
     },
     "execution_count": 8,
     "metadata": {},
     "output_type": "execute_result"
    }
   ],
   "source": [
    "df_ingresos.shape"
   ]
  },
  {
   "cell_type": "code",
   "execution_count": 9,
   "metadata": {},
   "outputs": [],
   "source": [
    "df_ingresos = df_ingresos.merge(df_ingresos_movil[['Ingresos_miles_pesos']], left_index=True, right_index=True, suffixes=('', '_movil'))"
   ]
  },
  {
   "cell_type": "code",
   "execution_count": 10,
   "metadata": {},
   "outputs": [],
   "source": [
    "\n",
    "df_ingresos.rename(columns={'Ingresos_miles_pesos': 'Ingresos_InternetFijo'}, inplace=True)\n",
    "\n",
    "df_ingresos.rename(columns={'Ingresos_miles_pesos_movil': 'Ingresos_TelefoniaMovil'}, inplace=True)"
   ]
  },
  {
   "cell_type": "code",
   "execution_count": 11,
   "metadata": {},
   "outputs": [
    {
     "data": {
      "text/html": [
       "<div>\n",
       "<style scoped>\n",
       "    .dataframe tbody tr th:only-of-type {\n",
       "        vertical-align: middle;\n",
       "    }\n",
       "\n",
       "    .dataframe tbody tr th {\n",
       "        vertical-align: top;\n",
       "    }\n",
       "\n",
       "    .dataframe thead th {\n",
       "        text-align: right;\n",
       "    }\n",
       "</style>\n",
       "<table border=\"1\" class=\"dataframe\">\n",
       "  <thead>\n",
       "    <tr style=\"text-align: right;\">\n",
       "      <th></th>\n",
       "      <th>Año</th>\n",
       "      <th>Trimestre</th>\n",
       "      <th>Ingresos_InternetFijo</th>\n",
       "      <th>Ingresos_TelefoniaMovil</th>\n",
       "    </tr>\n",
       "  </thead>\n",
       "  <tbody>\n",
       "    <tr>\n",
       "      <th>25</th>\n",
       "      <td>2020</td>\n",
       "      <td>2</td>\n",
       "      <td>32102476</td>\n",
       "      <td>73538944</td>\n",
       "    </tr>\n",
       "    <tr>\n",
       "      <th>26</th>\n",
       "      <td>2020</td>\n",
       "      <td>3</td>\n",
       "      <td>31997445</td>\n",
       "      <td>79634755</td>\n",
       "    </tr>\n",
       "    <tr>\n",
       "      <th>27</th>\n",
       "      <td>2020</td>\n",
       "      <td>4</td>\n",
       "      <td>33539703</td>\n",
       "      <td>83479114</td>\n",
       "    </tr>\n",
       "    <tr>\n",
       "      <th>28</th>\n",
       "      <td>2021</td>\n",
       "      <td>1</td>\n",
       "      <td>36676371</td>\n",
       "      <td>93112153</td>\n",
       "    </tr>\n",
       "    <tr>\n",
       "      <th>29</th>\n",
       "      <td>2021</td>\n",
       "      <td>2</td>\n",
       "      <td>38239667</td>\n",
       "      <td>104782020</td>\n",
       "    </tr>\n",
       "    <tr>\n",
       "      <th>30</th>\n",
       "      <td>2021</td>\n",
       "      <td>3</td>\n",
       "      <td>42999944</td>\n",
       "      <td>117751925</td>\n",
       "    </tr>\n",
       "    <tr>\n",
       "      <th>31</th>\n",
       "      <td>2021</td>\n",
       "      <td>4</td>\n",
       "      <td>45467887</td>\n",
       "      <td>127389786</td>\n",
       "    </tr>\n",
       "    <tr>\n",
       "      <th>32</th>\n",
       "      <td>2022</td>\n",
       "      <td>1</td>\n",
       "      <td>55589997</td>\n",
       "      <td>130454676</td>\n",
       "    </tr>\n",
       "    <tr>\n",
       "      <th>33</th>\n",
       "      <td>2022</td>\n",
       "      <td>2</td>\n",
       "      <td>60335724</td>\n",
       "      <td>153032313</td>\n",
       "    </tr>\n",
       "    <tr>\n",
       "      <th>34</th>\n",
       "      <td>2022</td>\n",
       "      <td>3</td>\n",
       "      <td>67055930</td>\n",
       "      <td>174057836</td>\n",
       "    </tr>\n",
       "  </tbody>\n",
       "</table>\n",
       "</div>"
      ],
      "text/plain": [
       "     Año  Trimestre  Ingresos_InternetFijo  Ingresos_TelefoniaMovil\n",
       "25  2020          2               32102476                 73538944\n",
       "26  2020          3               31997445                 79634755\n",
       "27  2020          4               33539703                 83479114\n",
       "28  2021          1               36676371                 93112153\n",
       "29  2021          2               38239667                104782020\n",
       "30  2021          3               42999944                117751925\n",
       "31  2021          4               45467887                127389786\n",
       "32  2022          1               55589997                130454676\n",
       "33  2022          2               60335724                153032313\n",
       "34  2022          3               67055930                174057836"
      ]
     },
     "execution_count": 11,
     "metadata": {},
     "output_type": "execute_result"
    }
   ],
   "source": [
    "df_ingresos.tail(10)"
   ]
  },
  {
   "cell_type": "code",
   "execution_count": 12,
   "metadata": {},
   "outputs": [
    {
     "data": {
      "text/html": [
       "<div>\n",
       "<style scoped>\n",
       "    .dataframe tbody tr th:only-of-type {\n",
       "        vertical-align: middle;\n",
       "    }\n",
       "\n",
       "    .dataframe tbody tr th {\n",
       "        vertical-align: top;\n",
       "    }\n",
       "\n",
       "    .dataframe thead th {\n",
       "        text-align: right;\n",
       "    }\n",
       "</style>\n",
       "<table border=\"1\" class=\"dataframe\">\n",
       "  <thead>\n",
       "    <tr style=\"text-align: right;\">\n",
       "      <th></th>\n",
       "      <th>Ingresos_InternetFijo</th>\n",
       "      <th>Ingresos_TelefoniaMovil</th>\n",
       "    </tr>\n",
       "    <tr>\n",
       "      <th>Año</th>\n",
       "      <th></th>\n",
       "      <th></th>\n",
       "    </tr>\n",
       "  </thead>\n",
       "  <tbody>\n",
       "    <tr>\n",
       "      <th>2014</th>\n",
       "      <td>13683949</td>\n",
       "      <td>72607710</td>\n",
       "    </tr>\n",
       "    <tr>\n",
       "      <th>2015</th>\n",
       "      <td>20108814</td>\n",
       "      <td>85950000</td>\n",
       "    </tr>\n",
       "    <tr>\n",
       "      <th>2016</th>\n",
       "      <td>26867508</td>\n",
       "      <td>107676433</td>\n",
       "    </tr>\n",
       "    <tr>\n",
       "      <th>2017</th>\n",
       "      <td>39671973</td>\n",
       "      <td>138536546</td>\n",
       "    </tr>\n",
       "    <tr>\n",
       "      <th>2018</th>\n",
       "      <td>59539594</td>\n",
       "      <td>166694340</td>\n",
       "    </tr>\n",
       "    <tr>\n",
       "      <th>2019</th>\n",
       "      <td>86772531</td>\n",
       "      <td>231880240</td>\n",
       "    </tr>\n",
       "    <tr>\n",
       "      <th>2020</th>\n",
       "      <td>127585840</td>\n",
       "      <td>308729960</td>\n",
       "    </tr>\n",
       "    <tr>\n",
       "      <th>2021</th>\n",
       "      <td>163383869</td>\n",
       "      <td>443035884</td>\n",
       "    </tr>\n",
       "    <tr>\n",
       "      <th>2022</th>\n",
       "      <td>182981651</td>\n",
       "      <td>457544825</td>\n",
       "    </tr>\n",
       "  </tbody>\n",
       "</table>\n",
       "</div>"
      ],
      "text/plain": [
       "      Ingresos_InternetFijo  Ingresos_TelefoniaMovil\n",
       "Año                                                 \n",
       "2014               13683949                 72607710\n",
       "2015               20108814                 85950000\n",
       "2016               26867508                107676433\n",
       "2017               39671973                138536546\n",
       "2018               59539594                166694340\n",
       "2019               86772531                231880240\n",
       "2020              127585840                308729960\n",
       "2021              163383869                443035884\n",
       "2022              182981651                457544825"
      ]
     },
     "execution_count": 12,
     "metadata": {},
     "output_type": "execute_result"
    }
   ],
   "source": [
    "df_suma_trimestral = df_ingresos.groupby('Año')[['Ingresos_InternetFijo','Ingresos_TelefoniaMovil']].sum()\n",
    "df_suma_trimestral"
   ]
  },
  {
   "cell_type": "code",
   "execution_count": 13,
   "metadata": {},
   "outputs": [
    {
     "data": {
      "image/png": "[encoded data removed]",
      "text/plain": [
       "<Figure size 1000x600 with 1 Axes>"
      ]
     },
     "metadata": {},
     "output_type": "display_data"
    }
   ],
   "source": [
    "# Configurar el estilo de los gráficos de Seaborn\n",
    "sns.set(style=\"darkgrid\")\n",
    "\n",
    "# Crear el gráfico de líneas utilizando Seaborn\n",
    "plt.figure(figsize=(10, 6))\n",
    "sns.lineplot(x='Año', y='Ingresos_InternetFijo', data=df_suma_trimestral, label='Internet Fijo')\n",
    "sns.lineplot(x='Año', y='Ingresos_TelefoniaMovil', data=df_suma_trimestral, label='Telefonía Móvil')\n",
    "\n",
    "# Configurar el título y etiquetas de los ejes\n",
    "plt.title('Crecimiento de Ingresos a lo largo de los Años')\n",
    "plt.xlabel('Año')\n",
    "plt.ylabel('Ingresos (millones de pesos)')\n",
    "\n",
    "# Ajustar la visualización de los valores del eje y\n",
    "plt.ticklabel_format(style='plain', axis='y')\n",
    "\n",
    "# Mostrar la leyenda\n",
    "plt.legend()\n",
    "\n",
    "# Mostrar el gráfico\n",
    "plt.show()"
   ]
  },
  {
   "cell_type": "code",
   "execution_count": 14,
   "metadata": {},
   "outputs": [],
   "source": [
    "df_crecimiento_anual = df_suma_trimestral.pct_change() * 100\n",
    "df_crecimiento_anual.fillna(0,inplace=True)"
   ]
  },
  {
   "cell_type": "code",
   "execution_count": 15,
   "metadata": {},
   "outputs": [
    {
     "data": {
      "text/html": [
       "<div>\n",
       "<style scoped>\n",
       "    .dataframe tbody tr th:only-of-type {\n",
       "        vertical-align: middle;\n",
       "    }\n",
       "\n",
       "    .dataframe tbody tr th {\n",
       "        vertical-align: top;\n",
       "    }\n",
       "\n",
       "    .dataframe thead th {\n",
       "        text-align: right;\n",
       "    }\n",
       "</style>\n",
       "<table border=\"1\" class=\"dataframe\">\n",
       "  <thead>\n",
       "    <tr style=\"text-align: right;\">\n",
       "      <th></th>\n",
       "      <th>Ingresos_InternetFijo</th>\n",
       "      <th>Ingresos_TelefoniaMovil</th>\n",
       "    </tr>\n",
       "    <tr>\n",
       "      <th>Año</th>\n",
       "      <th></th>\n",
       "      <th></th>\n",
       "    </tr>\n",
       "  </thead>\n",
       "  <tbody>\n",
       "    <tr>\n",
       "      <th>2014</th>\n",
       "      <td>0.000000</td>\n",
       "      <td>0.000000</td>\n",
       "    </tr>\n",
       "    <tr>\n",
       "      <th>2015</th>\n",
       "      <td>46.951834</td>\n",
       "      <td>18.375858</td>\n",
       "    </tr>\n",
       "    <tr>\n",
       "      <th>2016</th>\n",
       "      <td>33.610605</td>\n",
       "      <td>25.277991</td>\n",
       "    </tr>\n",
       "    <tr>\n",
       "      <th>2017</th>\n",
       "      <td>47.657807</td>\n",
       "      <td>28.660044</td>\n",
       "    </tr>\n",
       "    <tr>\n",
       "      <th>2018</th>\n",
       "      <td>50.079740</td>\n",
       "      <td>20.325174</td>\n",
       "    </tr>\n",
       "    <tr>\n",
       "      <th>2019</th>\n",
       "      <td>45.739205</td>\n",
       "      <td>39.105047</td>\n",
       "    </tr>\n",
       "    <tr>\n",
       "      <th>2020</th>\n",
       "      <td>47.034826</td>\n",
       "      <td>33.141987</td>\n",
       "    </tr>\n",
       "    <tr>\n",
       "      <th>2021</th>\n",
       "      <td>28.057995</td>\n",
       "      <td>43.502718</td>\n",
       "    </tr>\n",
       "    <tr>\n",
       "      <th>2022</th>\n",
       "      <td>11.994931</td>\n",
       "      <td>3.274891</td>\n",
       "    </tr>\n",
       "  </tbody>\n",
       "</table>\n",
       "</div>"
      ],
      "text/plain": [
       "      Ingresos_InternetFijo  Ingresos_TelefoniaMovil\n",
       "Año                                                 \n",
       "2014               0.000000                 0.000000\n",
       "2015              46.951834                18.375858\n",
       "2016              33.610605                25.277991\n",
       "2017              47.657807                28.660044\n",
       "2018              50.079740                20.325174\n",
       "2019              45.739205                39.105047\n",
       "2020              47.034826                33.141987\n",
       "2021              28.057995                43.502718\n",
       "2022              11.994931                 3.274891"
      ]
     },
     "execution_count": 15,
     "metadata": {},
     "output_type": "execute_result"
    }
   ],
   "source": [
    "df_crecimiento_anual"
   ]
  },
  {
   "cell_type": "code",
   "execution_count": 16,
   "metadata": {},
   "outputs": [
    {
     "name": "stdout",
     "output_type": "stream",
     "text": [
      "Promedio de crecimiento para Internet Fijo: 35.0\n",
      "Promedio de crecimiento para Telefonía Móvil: 24.0\n"
     ]
    }
   ],
   "source": [
    "promedio_crecimiento_internet_fijo = df_crecimiento_anual['Ingresos_InternetFijo'].mean()\n",
    "promedio_crecimiento_telefonia_movil = df_crecimiento_anual['Ingresos_TelefoniaMovil'].mean()\n",
    "\n",
    "print(\"Promedio de crecimiento para Internet Fijo:\", round(promedio_crecimiento_internet_fijo,0))\n",
    "print(\"Promedio de crecimiento para Telefonía Móvil:\", round(promedio_crecimiento_telefonia_movil,0))\n"
   ]
  },
  {
   "cell_type": "markdown",
   "metadata": {},
   "source": [
    "### KPI\n",
    "Podemos marcar como **minimo** de crecimiento anual el promedio de crecimiento a lo largo de estos anios, si se cumple perfecto, si no se cumple habra que evaluar que paso ese anio. \n",
    "\n",
    "Hay que tener en cuenta que aun asi solo tenemos datos hasta el tercer trimestre de 2022, por lo tanto habra un pequeño faltante en el ultimo anio."
   ]
  },
  {
   "cell_type": "code",
   "execution_count": 17,
   "metadata": {},
   "outputs": [],
   "source": [
    "df_crecimiento_anual.reset_index(inplace=True)"
   ]
  },
  {
   "cell_type": "code",
   "execution_count": 18,
   "metadata": {},
   "outputs": [],
   "source": [
    "df_crecimiento_anual\n",
    "df_crecimiento_anual.to_csv(r'dataset_processed\\crecimiento_anual.csv', index=False)"
   ]
  }
 ],
 "metadata": {
  "kernelspec": {
   "display_name": "Python 3",
   "language": "python",
   "name": "python3"
  },
  "language_info": {
   "codemirror_mode": {
    "name": "ipython",
    "version": 3
   },
   "file_extension": ".py",
   "mimetype": "text/x-python",
   "name": "python",
   "nbconvert_exporter": "python",
   "pygments_lexer": "ipython3",
   "version": "3.11.3"
  },
  "orig_nbformat": 4
 },
 "nbformat": 4,
 "nbformat_minor": 2
}
